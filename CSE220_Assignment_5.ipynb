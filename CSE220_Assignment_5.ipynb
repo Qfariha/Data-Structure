{
  "nbformat": 4,
  "nbformat_minor": 0,
  "metadata": {
    "colab": {
      "provenance": []
    },
    "kernelspec": {
      "name": "python3",
      "display_name": "Python 3"
    },
    "language_info": {
      "name": "python"
    }
  },
  "cells": [
    {
      "cell_type": "code",
      "source": [
        "#LIFO=Last In First Out\n",
        "#Stack using Array\n",
        "class stack1:                   \n",
        "  def __init__(self,length):\n",
        "    self.top=0\n",
        "    self.size=0\n",
        "    self.st=[None]*length\n",
        "\n",
        "  def push(self,elem):\n",
        "    if self.size==len(self.st):  #0!=4, 1!=4...4==4\n",
        "      print(\"Stack Overflow\")  \n",
        "    else:                     #top : elem   \n",
        "      self.st[self.top]=elem   #{0 : 10} , {1:20}, {2:30}, {3:40}\n",
        "      self.top+=1              #t=1, 2, 3, 4\n",
        "      self.size+=1             #size=0+1=1,2,3,4\n",
        "\n",
        "  def pop(self):\n",
        "    if self.size==0:\n",
        "      print(\"Stack Underflow\")\n",
        "    else:\n",
        "      temp=self.st[self.top-1]  #ekhon top=4 so invalid hoye jaito\n",
        "      self.st[self.top-1]=None\n",
        "      self.top-=1\n",
        "      self.size-=1\n",
        "      return temp\n",
        "\n",
        "  def peek(self):\n",
        "    if self.size==0:\n",
        "      print(\"Stack Underflow\")\n",
        "    else:\n",
        "      return self.st[self.top-1]\n",
        "\n",
        "  def printStack(self):\n",
        "    if self.size!=0:\n",
        "      idx=self.top  #top=3\n",
        "      while idx>=0:\n",
        "        print(self.st[idx])  \n",
        "        idx-=1\n",
        "    else:\n",
        "      print(\"Empty Stack\")\n",
        "input1=input()\n",
        "d1={\"(\":\")\",\"{\":\"}\", \"[\":\"]\"}\n",
        "c=len(input1)\n",
        "# for char in input1:\n",
        "#   if char in d1.keys():\n",
        "#     c+=1\n",
        "a1=stack1(c)\n",
        "\n",
        "\n",
        "checker=True # for matching parenthesis \n",
        "for char in input1:\n",
        "  if char in d1.keys():\n",
        "    a1.push(d1[char])  #closing parenthesis stack a push kore check kortesi\n",
        "  \n",
        "  elif char in d1.values():  #if kaaj na korle elif kaaj korbe \n",
        "                             #closing parenthesis ta values a na thakle checker false\n",
        "    if a1.pop()!= char:\n",
        "      checker=False\n",
        "      break\n",
        "\n",
        "      \n",
        "if checker:\n",
        "  print(\"This expression is correct.\")\n",
        "else:\n",
        "  print(\"This expression is NOT correct.\")\n",
        "  "
      ],
      "metadata": {
        "colab": {
          "base_uri": "https://localhost:8080/",
          "height": 380
        },
        "id": "juQxSXUHduGL",
        "outputId": "3f30bc37-ed62-456b-9f8e-0ab8bd104397"
      },
      "execution_count": null,
      "outputs": [
        {
          "output_type": "error",
          "ename": "KeyboardInterrupt",
          "evalue": "ignored",
          "traceback": [
            "\u001b[0;31m---------------------------------------------------------------------------\u001b[0m",
            "\u001b[0;31mKeyboardInterrupt\u001b[0m                         Traceback (most recent call last)",
            "\u001b[0;32m<ipython-input-1-602312ad0cc4>\u001b[0m in \u001b[0;36m<module>\u001b[0;34m\u001b[0m\n\u001b[1;32m     39\u001b[0m     \u001b[0;32melse\u001b[0m\u001b[0;34m:\u001b[0m\u001b[0;34m\u001b[0m\u001b[0;34m\u001b[0m\u001b[0m\n\u001b[1;32m     40\u001b[0m       \u001b[0mprint\u001b[0m\u001b[0;34m(\u001b[0m\u001b[0;34m\"Empty Stack\"\u001b[0m\u001b[0;34m)\u001b[0m\u001b[0;34m\u001b[0m\u001b[0;34m\u001b[0m\u001b[0m\n\u001b[0;32m---> 41\u001b[0;31m \u001b[0minput1\u001b[0m\u001b[0;34m=\u001b[0m\u001b[0minput\u001b[0m\u001b[0;34m(\u001b[0m\u001b[0;34m)\u001b[0m\u001b[0;34m\u001b[0m\u001b[0;34m\u001b[0m\u001b[0m\n\u001b[0m\u001b[1;32m     42\u001b[0m \u001b[0md1\u001b[0m\u001b[0;34m=\u001b[0m\u001b[0;34m{\u001b[0m\u001b[0;34m\"(\"\u001b[0m\u001b[0;34m:\u001b[0m\u001b[0;34m\")\"\u001b[0m\u001b[0;34m,\u001b[0m\u001b[0;34m\"{\"\u001b[0m\u001b[0;34m:\u001b[0m\u001b[0;34m\"}\"\u001b[0m\u001b[0;34m,\u001b[0m \u001b[0;34m\"[\"\u001b[0m\u001b[0;34m:\u001b[0m\u001b[0;34m\"]\"\u001b[0m\u001b[0;34m}\u001b[0m\u001b[0;34m\u001b[0m\u001b[0;34m\u001b[0m\u001b[0m\n\u001b[1;32m     43\u001b[0m \u001b[0mc\u001b[0m\u001b[0;34m=\u001b[0m\u001b[0mlen\u001b[0m\u001b[0;34m(\u001b[0m\u001b[0minput1\u001b[0m\u001b[0;34m)\u001b[0m\u001b[0;34m\u001b[0m\u001b[0;34m\u001b[0m\u001b[0m\n",
            "\u001b[0;32m/usr/local/lib/python3.7/dist-packages/ipykernel/kernelbase.py\u001b[0m in \u001b[0;36mraw_input\u001b[0;34m(self, prompt)\u001b[0m\n\u001b[1;32m    861\u001b[0m             \u001b[0mself\u001b[0m\u001b[0;34m.\u001b[0m\u001b[0m_parent_ident\u001b[0m\u001b[0;34m,\u001b[0m\u001b[0;34m\u001b[0m\u001b[0;34m\u001b[0m\u001b[0m\n\u001b[1;32m    862\u001b[0m             \u001b[0mself\u001b[0m\u001b[0;34m.\u001b[0m\u001b[0m_parent_header\u001b[0m\u001b[0;34m,\u001b[0m\u001b[0;34m\u001b[0m\u001b[0;34m\u001b[0m\u001b[0m\n\u001b[0;32m--> 863\u001b[0;31m             \u001b[0mpassword\u001b[0m\u001b[0;34m=\u001b[0m\u001b[0;32mFalse\u001b[0m\u001b[0;34m,\u001b[0m\u001b[0;34m\u001b[0m\u001b[0;34m\u001b[0m\u001b[0m\n\u001b[0m\u001b[1;32m    864\u001b[0m         )\n\u001b[1;32m    865\u001b[0m \u001b[0;34m\u001b[0m\u001b[0m\n",
            "\u001b[0;32m/usr/local/lib/python3.7/dist-packages/ipykernel/kernelbase.py\u001b[0m in \u001b[0;36m_input_request\u001b[0;34m(self, prompt, ident, parent, password)\u001b[0m\n\u001b[1;32m    902\u001b[0m             \u001b[0;32mexcept\u001b[0m \u001b[0mKeyboardInterrupt\u001b[0m\u001b[0;34m:\u001b[0m\u001b[0;34m\u001b[0m\u001b[0;34m\u001b[0m\u001b[0m\n\u001b[1;32m    903\u001b[0m                 \u001b[0;31m# re-raise KeyboardInterrupt, to truncate traceback\u001b[0m\u001b[0;34m\u001b[0m\u001b[0;34m\u001b[0m\u001b[0;34m\u001b[0m\u001b[0m\n\u001b[0;32m--> 904\u001b[0;31m                 \u001b[0;32mraise\u001b[0m \u001b[0mKeyboardInterrupt\u001b[0m\u001b[0;34m(\u001b[0m\u001b[0;34m\"Interrupted by user\"\u001b[0m\u001b[0;34m)\u001b[0m \u001b[0;32mfrom\u001b[0m \u001b[0;32mNone\u001b[0m\u001b[0;34m\u001b[0m\u001b[0;34m\u001b[0m\u001b[0m\n\u001b[0m\u001b[1;32m    905\u001b[0m             \u001b[0;32mexcept\u001b[0m \u001b[0mException\u001b[0m \u001b[0;32mas\u001b[0m \u001b[0me\u001b[0m\u001b[0;34m:\u001b[0m\u001b[0;34m\u001b[0m\u001b[0;34m\u001b[0m\u001b[0m\n\u001b[1;32m    906\u001b[0m                 \u001b[0mself\u001b[0m\u001b[0;34m.\u001b[0m\u001b[0mlog\u001b[0m\u001b[0;34m.\u001b[0m\u001b[0mwarning\u001b[0m\u001b[0;34m(\u001b[0m\u001b[0;34m\"Invalid Message:\"\u001b[0m\u001b[0;34m,\u001b[0m \u001b[0mexc_info\u001b[0m\u001b[0;34m=\u001b[0m\u001b[0;32mTrue\u001b[0m\u001b[0;34m)\u001b[0m\u001b[0;34m\u001b[0m\u001b[0;34m\u001b[0m\u001b[0m\n",
            "\u001b[0;31mKeyboardInterrupt\u001b[0m: Interrupted by user"
          ]
        }
      ]
    },
    {
      "cell_type": "code",
      "source": [
        "a=stack()\n",
        "var=input()\n",
        "res=\"\"\n",
        "for char in var:\n",
        "  a.push(char)\n",
        "  elem=a.pop()\n",
        "  res+=elem\n",
        "print(res)"
      ],
      "metadata": {
        "id": "jqzIrOh--BD-"
      },
      "execution_count": null,
      "outputs": []
    },
    {
      "cell_type": "code",
      "source": [
        "#LIFO=Last In First Out\n",
        "#Stack using Linked List\n",
        "class node:\n",
        "   def __init__(self,a,b):\n",
        "     self.val=a\n",
        "     self.next=b\n",
        "\n",
        "class stack:\n",
        "  def __init__(self):\n",
        "    self.head=node(None,None)\n",
        "  def push(self,a):\n",
        "    self.head=node(a,self.head)\n",
        "    \n",
        "  def pop(self):    # pop() kortoso jokhon self.head null hoye gese\n",
        "    temp=self.head \n",
        "    if self.head!=None:    # check this one\n",
        "      self.head=self.head.next\n",
        "    return temp.val\n",
        "  def peek(self):\n",
        "    return self.head.val\n",
        "  def printstack(self):\n",
        "    temp=self.head\n",
        "    while temp!=None:\n",
        "      print(temp.val,end=\"<-\")\n",
        "      temp=temp.next\n",
        "# a=stack()\n",
        "# d1={\"(\":\")\",\"{\":\"}\", \"[\":\"]\"}\n",
        "# input1=input()\n",
        "# checker=True # for matching parenthesis \n",
        "# for char in input1:\n",
        "#   if char in d1.keys():\n",
        "#     a.push(d1[char])  #closing parenthesis stack a push kore check kortesi\n",
        "    \n",
        "#   elif char in d1.values():   \n",
        "#     if a.pop()!= char:\n",
        "#       checker=False\n",
        "#       break\n",
        "\n",
        "      \n",
        "# if checker:\n",
        "#   print(\"This expression is correct.\")\n",
        "# else:\n",
        "#   print(\"This expression is NOT correct.\")\n",
        "\n",
        "# a=stack()\n",
        "# var=\"CSE220\"\n",
        "# res=\"\"\n",
        "# for char in var:\n",
        "#   a.push(char)\n",
        "# for char in var:\n",
        "#   elem=a.pop()\n",
        "#   res+=elem\n",
        "# print(res)\n",
        "\n",
        "def palindromeCheck(self,var):\n",
        " \n",
        "  for char in var:\n",
        "    self.push(char)\n",
        "  for char in var:\n",
        "    elem=self.pop()\n",
        "    if elem!=char:\n",
        "      return(\"Not palindrome\")\n",
        "    return(\"palindrome\")\n",
        "palindromeCheck(\"MADAM\")"
      ],
      "metadata": {
        "colab": {
          "base_uri": "https://localhost:8080/",
          "height": 200
        },
        "id": "f8Tf6g-mf6oI",
        "outputId": "2d4f4a72-78ee-4836-b05f-2dbf685dce0a"
      },
      "execution_count": null,
      "outputs": [
        {
          "output_type": "error",
          "ename": "TypeError",
          "evalue": "ignored",
          "traceback": [
            "\u001b[0;31m---------------------------------------------------------------------------\u001b[0m",
            "\u001b[0;31mTypeError\u001b[0m                                 Traceback (most recent call last)",
            "\u001b[0;32m<ipython-input-18-ad84bbc4b10c>\u001b[0m in \u001b[0;36m<module>\u001b[0;34m\u001b[0m\n\u001b[1;32m     62\u001b[0m       \u001b[0;32mreturn\u001b[0m\u001b[0;34m(\u001b[0m\u001b[0;34m\"Not palindrome\"\u001b[0m\u001b[0;34m)\u001b[0m\u001b[0;34m\u001b[0m\u001b[0;34m\u001b[0m\u001b[0m\n\u001b[1;32m     63\u001b[0m     \u001b[0;32mreturn\u001b[0m\u001b[0;34m(\u001b[0m\u001b[0;34m\"palindrome\"\u001b[0m\u001b[0;34m)\u001b[0m\u001b[0;34m\u001b[0m\u001b[0;34m\u001b[0m\u001b[0m\n\u001b[0;32m---> 64\u001b[0;31m \u001b[0mpalindromeCheck\u001b[0m\u001b[0;34m(\u001b[0m\u001b[0;34m\"MADAM\"\u001b[0m\u001b[0;34m)\u001b[0m\u001b[0;34m\u001b[0m\u001b[0;34m\u001b[0m\u001b[0m\n\u001b[0m",
            "\u001b[0;31mTypeError\u001b[0m: palindromeCheck() missing 1 required positional argument: 'var'"
          ]
        }
      ]
    }
  ]
}