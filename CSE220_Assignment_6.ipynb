{
  "nbformat": 4,
  "nbformat_minor": 0,
  "metadata": {
    "colab": {
      "provenance": []
    },
    "kernelspec": {
      "name": "python3",
      "display_name": "Python 3"
    },
    "language_info": {
      "name": "python"
    }
  },
  "cells": [
    {
      "cell_type": "code",
      "execution_count": null,
      "metadata": {
        "colab": {
          "base_uri": "https://localhost:8080/"
        },
        "id": "vaIL5l7gWCox",
        "outputId": "2f89ad9d-98ad-4379-afd0-19e533c0192d"
      },
      "outputs": [
        {
          "output_type": "execute_result",
          "data": {
            "text/plain": [
              "2.083333333333333"
            ]
          },
          "metadata": {},
          "execution_count": 14
        }
      ],
      "source": [
        "def harmonic_sum(n):\n",
        "  if n==1:\n",
        "    return 1\n",
        "  return 1/n+ harmonic_sum(n-1)\n",
        "harmonic_sum(4)"
      ]
    },
    {
      "cell_type": "code",
      "source": [],
      "metadata": {
        "id": "JO-vnY_NmygT"
      },
      "execution_count": null,
      "outputs": []
    },
    {
      "cell_type": "code",
      "source": [
        "def reverse(l):\n",
        "  return reverse_list(l,0,len(l)-1)\n",
        "\n",
        "def reverse_list(l,start,end):\n",
        "  \n",
        "  if start>end:\n",
        "    return l\n",
        "\n",
        "  l[start],l[end]=l[end],l[start]\n",
        "  return reverse_list(l,start+1,end-1)\n",
        "  \n",
        "\n",
        "\n",
        "reverse([1,2,3,4,5])"
      ],
      "metadata": {
        "colab": {
          "base_uri": "https://localhost:8080/"
        },
        "id": "w_7-nZ0twBjO",
        "outputId": "32307ce4-5e4c-4c41-b9e4-676a6273a8a6"
      },
      "execution_count": null,
      "outputs": [
        {
          "output_type": "execute_result",
          "data": {
            "text/plain": [
              "[5, 4, 3, 2, 1]"
            ]
          },
          "metadata": {},
          "execution_count": 28
        }
      ]
    },
    {
      "cell_type": "code",
      "source": [
        "def palin(l):\n",
        "  return palin_check(l,0,len(l)-1)\n",
        "\n",
        "def palin_check(l,start,end):\n",
        "  \n",
        "  if start<end:\n",
        "    if l[start]!=l[end]:\n",
        "      return \"Not a Plaindrome\"\n",
        "    return palin_check(l,start+1,end-1)\n",
        "  return \"Palindrome\"\n",
        "  \n",
        "palin([1,2,3,2,1])\n",
        "#palin(\"MADAM\")\n",
        "#palin(\"HELLO\")"
      ],
      "metadata": {
        "colab": {
          "base_uri": "https://localhost:8080/",
          "height": 36
        },
        "id": "wttKM2ZwzZdR",
        "outputId": "b8cf99b6-c48b-44b8-d4de-a494d745acb6"
      },
      "execution_count": null,
      "outputs": [
        {
          "output_type": "execute_result",
          "data": {
            "text/plain": [
              "'Palindrome'"
            ],
            "application/vnd.google.colaboratory.intrinsic+json": {
              "type": "string"
            }
          },
          "metadata": {},
          "execution_count": 42
        }
      ]
    },
    {
      "cell_type": "code",
      "source": [
        "def arrSum(arr):\n",
        "  \n",
        "  if len(arr)==1:\n",
        "    return arr[0]     #40\n",
        "                                     #[20,30,40], [30,40],[40]\n",
        "  return(arr[0]+arrSum(arr[1:]))  #10+20+30+*40* if true hoye jekhan theke call hoise shekhane returned val ta niye ashche\n",
        "  \n",
        "\n",
        "arrSum([10,20,30,40])"
      ],
      "metadata": {
        "colab": {
          "base_uri": "https://localhost:8080/"
        },
        "id": "ZKe3jdiaavAJ",
        "outputId": "cefba39c-c069-4efb-eca2-d4aa6f1b34e7"
      },
      "execution_count": null,
      "outputs": [
        {
          "output_type": "execute_result",
          "data": {
            "text/plain": [
              "100"
            ]
          },
          "metadata": {},
          "execution_count": 13
        }
      ]
    },
    {
      "cell_type": "code",
      "source": [
        "#task-1(a)\n",
        "def fact(n):\n",
        "  if n==0 or n==1:\n",
        "    return 1\n",
        "  return n*fact(n-1)\n",
        "print(fact(4))\n",
        "\n"
      ],
      "metadata": {
        "colab": {
          "base_uri": "https://localhost:8080/"
        },
        "id": "4WLlbpF2-AoD",
        "outputId": "922b3ce3-df12-4c56-9627-2c17d3d4fad3"
      },
      "execution_count": null,
      "outputs": [
        {
          "output_type": "stream",
          "name": "stdout",
          "text": [
            "24\n"
          ]
        }
      ]
    },
    {
      "cell_type": "code",
      "source": [
        "#task-1(b)\n",
        "fib1=[None]*1000\n",
        "fib1[0]=0\n",
        "fib1[1]=1\n",
        "def fib(n):\n",
        "  if n<=1:\n",
        "    return n\n",
        "  elif fib1[n]!=None:\n",
        "    return fib1[n]\n",
        "  else:\n",
        "    val=fib(n-1)+fib(n-2)\n",
        "    fib1[n]=val\n",
        "    return val\n",
        "print(fib(6))\n"
      ],
      "metadata": {
        "colab": {
          "base_uri": "https://localhost:8080/"
        },
        "id": "frGRTBDo-7KU",
        "outputId": "f2c8dd06-0113-471b-ee06-e572b65af483"
      },
      "execution_count": null,
      "outputs": [
        {
          "output_type": "stream",
          "name": "stdout",
          "text": [
            "8\n"
          ]
        }
      ]
    },
    {
      "cell_type": "code",
      "source": [
        "#task-1(c)\n",
        "def traverseArr(arr,idx):\n",
        "  \n",
        "  if idx>=0 and idx<len(arr):\n",
        "    print(arr[idx])\n",
        "    traverseArr(arr,idx+1)\n",
        "\n",
        "traverseArr([10,20,30],0)"
      ],
      "metadata": {
        "colab": {
          "base_uri": "https://localhost:8080/"
        },
        "id": "-kiIoYIvBI10",
        "outputId": "93354863-ef98-409b-ef0f-4c59c49d699f"
      },
      "execution_count": null,
      "outputs": [
        {
          "output_type": "stream",
          "name": "stdout",
          "text": [
            "10\n",
            "20\n",
            "30\n"
          ]
        }
      ]
    },
    {
      "cell_type": "code",
      "source": [
        "def traverseArr(arr,idx):\n",
        "  \n",
        "  if idx>=0 and idx<len(arr):\n",
        "    \n",
        "    traverseArr(arr,idx+1)\n",
        "    print(arr[idx])\n",
        "\n",
        "traverseArr([10,20,30],0)"
      ],
      "metadata": {
        "colab": {
          "base_uri": "https://localhost:8080/"
        },
        "id": "sh-1fbGaiT5b",
        "outputId": "1672d658-0f4d-4eb9-f43d-87462f0cdc41"
      },
      "execution_count": null,
      "outputs": [
        {
          "output_type": "stream",
          "name": "stdout",
          "text": [
            "30\n",
            "20\n",
            "10\n"
          ]
        }
      ]
    },
    {
      "cell_type": "code",
      "source": [
        "#task-1(d)\n",
        "def power(a,n):\n",
        "  if n==0:\n",
        "    return 1\n",
        "  return a*power(a,n-1)\n",
        "print(power(3,3))"
      ],
      "metadata": {
        "colab": {
          "base_uri": "https://localhost:8080/"
        },
        "id": "9vTwKC-fBQrU",
        "outputId": "a677038f-133d-41b8-d19a-b3551826494e"
      },
      "execution_count": null,
      "outputs": [
        {
          "output_type": "stream",
          "name": "stdout",
          "text": [
            "27\n"
          ]
        }
      ]
    },
    {
      "cell_type": "code",
      "source": [
        "#task-2(a)\n",
        "def dec_bin(n):\n",
        "  res=\"\"\n",
        "  if n>=1:\n",
        "    dec_bin(n//2)\n",
        "    res=n%2\n",
        "  print(res,end=\" \")\n",
        "dec_bin(11)"
      ],
      "metadata": {
        "colab": {
          "base_uri": "https://localhost:8080/"
        },
        "id": "XIJXiO9rWz6_",
        "outputId": "6e586b6b-789c-439e-fde3-d86563483b8f"
      },
      "execution_count": null,
      "outputs": [
        {
          "output_type": "stream",
          "name": "stdout",
          "text": [
            " 1 0 1 1 "
          ]
        }
      ]
    },
    {
      "cell_type": "code",
      "source": [
        "#task-2(b)\n",
        "class Node:\n",
        "  def __init__(self,e,n):\n",
        "    self.elem=e\n",
        "    self.next=n\n",
        "a=Node(10,Node(20,Node(30,None)))\n",
        "\n",
        "def sum(head):\n",
        "  if head==None:\n",
        "    return 0\n",
        "  return head.elem+sum(head.next)\n",
        "print(sum(a))\n"
      ],
      "metadata": {
        "colab": {
          "base_uri": "https://localhost:8080/"
        },
        "id": "OgX8UJhSDVcN",
        "outputId": "6114052f-1e60-4415-8ac0-0cb1140cfc81"
      },
      "execution_count": null,
      "outputs": [
        {
          "output_type": "stream",
          "name": "stdout",
          "text": [
            "60\n"
          ]
        }
      ]
    },
    {
      "cell_type": "code",
      "source": [
        "#task-2(c)\n",
        "class Node:\n",
        "  def __init__(self,e,n):\n",
        "    self.elem=e\n",
        "    self.next=n\n",
        "a=Node(10,Node(20,Node(30,None)))\n",
        "\n",
        "def reverse(head):\n",
        "  if head==None:\n",
        "    return 0\n",
        "  reverse(head.next)\n",
        "  print(head.elem)\n",
        "\n",
        "  \n",
        "(reverse(a))\n"
      ],
      "metadata": {
        "colab": {
          "base_uri": "https://localhost:8080/"
        },
        "id": "Hklj0hEeF9Hc",
        "outputId": "65d1e1b4-aba9-4dc4-d7e4-c68157d86315"
      },
      "execution_count": null,
      "outputs": [
        {
          "output_type": "stream",
          "name": "stdout",
          "text": [
            "30\n",
            "20\n",
            "10\n"
          ]
        }
      ]
    },
    {
      "cell_type": "code",
      "source": [
        "#task-3\n",
        "def card(h):\n",
        "  if h==0:\n",
        "    return 0\n",
        "  elif h==1:\n",
        "    return 8\n",
        "  else:\n",
        "    return 5+card(h-1)\n",
        "print(card(4))"
      ],
      "metadata": {
        "colab": {
          "base_uri": "https://localhost:8080/"
        },
        "id": "gf95ousLOvl_",
        "outputId": "032ef680-0d2c-4458-b0ae-eed85520bd8c"
      },
      "execution_count": null,
      "outputs": [
        {
          "output_type": "stream",
          "name": "stdout",
          "text": [
            "23\n"
          ]
        }
      ]
    },
    {
      "cell_type": "code",
      "source": [
        "#task-4(a)\n",
        "def lefttriangle(num, row = 1, digit = 1):\n",
        "  if row<=num:\n",
        "    if digit<=row:\n",
        "      print(digit, end = '')\n",
        "      return lefttriangle(num, row, digit+1)\n",
        "    print()\n",
        "    #new row -> digit starts from 1\n",
        "    return lefttriangle(num, row+1, digit = 1)\n",
        "  return\n",
        "lefttriangle(5)"
      ],
      "metadata": {
        "colab": {
          "base_uri": "https://localhost:8080/"
        },
        "id": "ESc1qExEgP-X",
        "outputId": "3a4c7eb9-3dc3-415c-a9c2-fa602c2d6926"
      },
      "execution_count": null,
      "outputs": [
        {
          "output_type": "stream",
          "name": "stdout",
          "text": [
            "1\n",
            "12\n",
            "123\n",
            "1234\n",
            "12345\n"
          ]
        }
      ]
    },
    {
      "cell_type": "code",
      "source": [
        "#task-4(b)\n",
        "def righttriangle(n, row=1, digit=1, spacecount=1):\n",
        "    if row > n:\n",
        "        return\n",
        "    else:\n",
        "        if spacecount <= n-row:\n",
        "            print(' ', end = '')\n",
        "            righttriangle(n, row, digit, spacecount+1)\n",
        "        else:\n",
        "            if digit>0:\n",
        "                print(digit, end = '')\n",
        "                righttriangle(n, row, digit-1, spacecount)\n",
        "            else:\n",
        "                print()\n",
        "                righttriangle(n, row+1, row+1, 1)\n",
        "righttriangle(5)"
      ],
      "metadata": {
        "colab": {
          "base_uri": "https://localhost:8080/"
        },
        "id": "XnxwrCqdgt_p",
        "outputId": "8bafc4ba-b545-4521-fc55-d1a7798c7faa"
      },
      "execution_count": null,
      "outputs": [
        {
          "output_type": "stream",
          "name": "stdout",
          "text": [
            "    1\n",
            "   21\n",
            "  321\n",
            " 4321\n",
            "54321\n"
          ]
        }
      ]
    },
    {
      "cell_type": "code",
      "source": [
        "#task-5\n",
        "class FinalQ: \n",
        "  def print(self,array,idx): \n",
        "    if(idx<len(array)): \n",
        "        profit = self.calcProfit(array[idx])\n",
        "        print(f\"{idx+1}. Investment: {array[idx]}; Profit: {float(profit)}\")\n",
        "        self.print(array,idx+1)\n",
        "    \n",
        "  def calcProfit(self,investment):\n",
        "    if investment <= 25000:\n",
        "        return 0\n",
        "    elif investment <= 100000:\n",
        "      return 45 + self.calcProfit(investment-1000)\n",
        "    elif investment > 100000:\n",
        "      return 80 + self.calcProfit(investment-1000)\n",
        "#Tester \n",
        "array=[25000,100000,250000,350000] \n",
        "f = FinalQ() \n",
        "f.print(array,0)"
      ],
      "metadata": {
        "colab": {
          "base_uri": "https://localhost:8080/"
        },
        "id": "UVUpzAZ2cwjV",
        "outputId": "4f984236-3904-4a28-a15d-7af939c88e84"
      },
      "execution_count": null,
      "outputs": [
        {
          "output_type": "stream",
          "name": "stdout",
          "text": [
            "1. Investment: 25000; Profit: 0.0\n",
            "2. Investment: 100000; Profit: 3375.0\n",
            "3. Investment: 250000; Profit: 15375.0\n",
            "4. Investment: 350000; Profit: 23375.0\n"
          ]
        }
      ]
    },
    {
      "cell_type": "code",
      "source": [
        "#Practice problem"
      ],
      "metadata": {
        "id": "gp6zegGrm0rs"
      },
      "execution_count": null,
      "outputs": []
    },
    {
      "cell_type": "code",
      "source": [
        "#task-15\n",
        "def endx(s):\n",
        "  if len(s)==0:\n",
        "    return \"\"\n",
        "  if s[0]==\"x\":\n",
        "    return endx(s[1:])+s[0]\n",
        "  return s[0]+ endx(s[1:])\n",
        "\n",
        "\n",
        "print(endx(\"xxre\")) #→ \"rexx\"\n",
        "print(endx(\"xxhixx\")) #→ \"hixxxx\"\n",
        "print(endx(\"xhixhix\")) #→ \"hihixxx\""
      ],
      "metadata": {
        "id": "xx1efGzVm3-A",
        "colab": {
          "base_uri": "https://localhost:8080/"
        },
        "outputId": "81b17e34-3d0c-4209-cbce-061eb924ae95"
      },
      "execution_count": null,
      "outputs": [
        {
          "output_type": "stream",
          "name": "stdout",
          "text": [
            "rexx\n",
            "hixxxx\n",
            "hihixxx\n"
          ]
        }
      ]
    },
    {
      "cell_type": "code",
      "source": [
        "#task-14\n",
        "def arr220(a,i):\n",
        "  if len(a)==1:\n",
        "    return False\n",
        "  if i<=len(a)-1:\n",
        "    if a[i]*10 in a:\n",
        "      return True \n",
        "    return arr220(a,i+1)\n",
        "  return False\n",
        "print(arr220([1,2,20], 0))"
      ],
      "metadata": {
        "colab": {
          "base_uri": "https://localhost:8080/"
        },
        "id": "9MPrsTY-d_Rw",
        "outputId": "88a7a952-8ccd-4f6e-eaa4-e7e8fecd8fde"
      },
      "execution_count": null,
      "outputs": [
        {
          "output_type": "stream",
          "name": "stdout",
          "text": [
            "True\n"
          ]
        }
      ]
    },
    {
      "cell_type": "code",
      "source": [
        "#task-13\n",
        "def noX(s):\n",
        "  if len(s)<1:\n",
        "    return \"\"\n",
        "  \n",
        "  else:\n",
        "    if s[0]==\"x\":\n",
        "      return noX(s[1:])\n",
        "    else:\n",
        "      return s[0]+ noX(s[1:])\n",
        "print(noX(\"xaxb\"))\n"
      ],
      "metadata": {
        "colab": {
          "base_uri": "https://localhost:8080/"
        },
        "id": "IjFmUQ7ZvekK",
        "outputId": "0ea6bd5b-103b-4d0f-f7ad-4165d6719377"
      },
      "execution_count": null,
      "outputs": [
        {
          "output_type": "stream",
          "name": "stdout",
          "text": [
            "ab\n"
          ]
        }
      ]
    },
    {
      "cell_type": "code",
      "source": [
        "#task-12\n",
        "def triangle(n):\n",
        "  if n==0:\n",
        "    return 0\n",
        "  if n==1:\n",
        "    return 1\n",
        "  return n+ triangle(n-1)\n",
        "print(triangle(3))"
      ],
      "metadata": {
        "colab": {
          "base_uri": "https://localhost:8080/"
        },
        "id": "BP3rKf3T2IHY",
        "outputId": "4c5a37df-e730-4e4a-808c-fb0dfa002b0a"
      },
      "execution_count": null,
      "outputs": [
        {
          "output_type": "stream",
          "name": "stdout",
          "text": [
            "6\n"
          ]
        }
      ]
    },
    {
      "cell_type": "code",
      "source": [
        "#task-11\n",
        "def bunnyEars(n):\n",
        "  if n==0:\n",
        "    return 0\n",
        "  \n",
        "  return 2+bunnyEars(n-1)\n",
        "\n",
        "print(bunnyEars(2))"
      ],
      "metadata": {
        "colab": {
          "base_uri": "https://localhost:8080/"
        },
        "id": "zncaIEyF2J24",
        "outputId": "950826cd-45ba-4b4d-f5b2-f8b4f76ebcbb"
      },
      "execution_count": null,
      "outputs": [
        {
          "output_type": "stream",
          "name": "stdout",
          "text": [
            "4\n"
          ]
        }
      ]
    },
    {
      "cell_type": "code",
      "source": [
        "#task-10\n",
        "def strcount(s,s2):\n",
        "  if s==s2:\n",
        "    return 1\n",
        "  elif len(s)<3:\n",
        "    return 0\n",
        "  \n",
        "  if s[:3]==s2:\n",
        "    return 1+ strcount(s[3:],s2)\n",
        "  else:\n",
        "    return strcount(s[1:],s2)\n",
        "print(strcount(\"catcowcat\",\"cow\"))"
      ],
      "metadata": {
        "colab": {
          "base_uri": "https://localhost:8080/"
        },
        "id": "a3sBIUpFTXT9",
        "outputId": "9f26324e-6700-414b-bfce-56d85f1c78e4"
      },
      "execution_count": null,
      "outputs": [
        {
          "output_type": "stream",
          "name": "stdout",
          "text": [
            "1\n"
          ]
        }
      ]
    },
    {
      "cell_type": "code",
      "source": [
        "#task-9\n",
        "def counthi2(s):\n",
        "  if s==\"hi\":\n",
        "    return 1\n",
        "  elif len(s)<3:\n",
        "    return 0\n",
        "  if s[:3]==\"xhi\":\n",
        "    return counthi2(s[3:])\n",
        "  if s[:2]==\"hi\":\n",
        "    return 1+ counthi2(s[2:])\n",
        "print(counthi2(\"xhihihi\"))\n",
        "  "
      ],
      "metadata": {
        "colab": {
          "base_uri": "https://localhost:8080/"
        },
        "id": "HKYQQ1TtNEX7",
        "outputId": "03699851-4ffa-4184-a9ba-ebf48a9df431"
      },
      "execution_count": null,
      "outputs": [
        {
          "output_type": "stream",
          "name": "stdout",
          "text": [
            "2\n"
          ]
        }
      ]
    },
    {
      "cell_type": "code",
      "source": [
        "#task-8\n",
        "def countABC(s):\n",
        "  if s==\"abc\" or s==\"aba\":\n",
        "    return 1\n",
        "  elif len(s)<3:\n",
        "    return 0\n",
        "  \n",
        "  if s[:3]==\"abc\" or s[:3]==\"aba\":\n",
        "    return 1+ countABC(s[3:])\n",
        "  else:\n",
        "    return countABC(s[1:])\n",
        "print(countABC(\"abcxxxabcxabc\"))"
      ],
      "metadata": {
        "colab": {
          "base_uri": "https://localhost:8080/"
        },
        "id": "Mm9Y5A2nUs4a",
        "outputId": "e5552554-1e50-40c3-c7a5-60121f14f962"
      },
      "execution_count": null,
      "outputs": [
        {
          "output_type": "stream",
          "name": "stdout",
          "text": [
            "3\n"
          ]
        }
      ]
    },
    {
      "cell_type": "code",
      "source": [
        "#task-7\n",
        "def pair(s):\n",
        "  if len(s)<2:\n",
        "    return 0\n",
        "  elif len(s)==2:\n",
        "    if s[0]==s[1]:\n",
        "      return s[0]+\"*\"+s[1]\n",
        "    else:\n",
        "      return s[0]+s[1]\n",
        "  else:\n",
        "    if s[0]==s[1]:\n",
        "      return s[0]+\"*\"+pair(s[1:])\n",
        "    else:\n",
        "      return s[0]+pair(s[1:])\n",
        "print(pair(\"hello\"))"
      ],
      "metadata": {
        "colab": {
          "base_uri": "https://localhost:8080/"
        },
        "id": "q_Sc6LDH1oXB",
        "outputId": "f1b70a58-d8a7-4e91-c571-e31fbe235bc3"
      },
      "execution_count": null,
      "outputs": [
        {
          "output_type": "stream",
          "name": "stdout",
          "text": [
            "hel*lo\n"
          ]
        }
      ]
    },
    {
      "cell_type": "code",
      "source": [
        "#task-6\n",
        "def arr11(a,i):\n",
        "  if len(a)==0:\n",
        "    return 0\n",
        "  else:\n",
        "    if a[0]==11:\n",
        "      return 1+ arr11(a[1:],i)\n",
        "    else:\n",
        "      return arr11(a[1:],i)\n",
        "print(arr11([11, 2, 11], 0))"
      ],
      "metadata": {
        "colab": {
          "base_uri": "https://localhost:8080/"
        },
        "id": "9ei78FIL4u0r",
        "outputId": "d0f3a5f0-4624-4b67-f6c9-3229638ba44c"
      },
      "execution_count": null,
      "outputs": [
        {
          "output_type": "stream",
          "name": "stdout",
          "text": [
            "2\n"
          ]
        }
      ]
    },
    {
      "cell_type": "code",
      "source": [
        "#task-5\n",
        "def pi(s):\n",
        "  if len(s)==0:\n",
        "    return \"\"\n",
        "  else:\n",
        "    if s[:2]==\"pi\":\n",
        "      return \"3.14\" + pi(s[2:])\n",
        "    else:\n",
        "      return str(s[0])+ str(pi(s[1:]))\n",
        "print(pi(\"xpipx\"))"
      ],
      "metadata": {
        "colab": {
          "base_uri": "https://localhost:8080/"
        },
        "id": "MG7P7KUv6Tqy",
        "outputId": "06bf4ace-4bf6-4963-e8ab-9127fdda62c0"
      },
      "execution_count": null,
      "outputs": [
        {
          "output_type": "stream",
          "name": "stdout",
          "text": [
            "x3.14px\n"
          ]
        }
      ]
    },
    {
      "cell_type": "code",
      "source": [
        "#task-4\n",
        "def countX(s):\n",
        "  if len(s)==0:\n",
        "    return 0\n",
        "  \n",
        "  else:\n",
        "    if s[0]==\"x\":\n",
        "      return 1+ countX(s[1:])\n",
        "    else:\n",
        "      return countX(s[1:])\n",
        "print(countX(\"xaxb\")) "
      ],
      "metadata": {
        "colab": {
          "base_uri": "https://localhost:8080/"
        },
        "id": "_O51cJm4gNze",
        "outputId": "766d990b-e165-4fc6-f8b9-49c9549544a2"
      },
      "execution_count": null,
      "outputs": [
        {
          "output_type": "stream",
          "name": "stdout",
          "text": [
            "2\n"
          ]
        }
      ]
    },
    {
      "cell_type": "code",
      "source": [
        "#task-3\n",
        "def count7(n):\n",
        "  if n==0:\n",
        "    return 0\n",
        "  if n%10==7:\n",
        "    return 1+count7(n//10)\n",
        "  return count7(n//10)\n",
        "print(count7(717))\n",
        "\n"
      ],
      "metadata": {
        "colab": {
          "base_uri": "https://localhost:8080/"
        },
        "id": "AIMl0Lzb810d",
        "outputId": "4ae0e1be-0930-4ea5-986f-c8fa44fbe3b3"
      },
      "execution_count": null,
      "outputs": [
        {
          "output_type": "stream",
          "name": "stdout",
          "text": [
            "2\n"
          ]
        }
      ]
    },
    {
      "cell_type": "code",
      "source": [
        "#task-2\n",
        "def bunny(n):\n",
        "  if n==0:\n",
        "    return 0\n",
        " \n",
        "  elif n%2!=0:\n",
        "    return 3+bunny(n-1)\n",
        "  elif n%2==0:\n",
        "    return 2+bunny(n-1)\n",
        "\n",
        "print(bunny(2))"
      ],
      "metadata": {
        "colab": {
          "base_uri": "https://localhost:8080/"
        },
        "id": "OitW3wcVLEY7",
        "outputId": "5fe1f0bb-afab-4c7b-d167-307846fb1aa1"
      },
      "execution_count": null,
      "outputs": [
        {
          "output_type": "stream",
          "name": "stdout",
          "text": [
            "5\n"
          ]
        }
      ]
    },
    {
      "cell_type": "code",
      "source": [
        "#task-1\n",
        "def sumDigits(n):\n",
        "  if n==0:\n",
        "    return 0\n",
        "  return n%10+sumDigits(n//10)\n",
        "print( sumDigits(126))"
      ],
      "metadata": {
        "colab": {
          "base_uri": "https://localhost:8080/"
        },
        "id": "bTl0KznWDPt_",
        "outputId": "a89ceece-3b46-4927-d7d7-a8aa901a2356"
      },
      "execution_count": null,
      "outputs": [
        {
          "output_type": "stream",
          "name": "stdout",
          "text": [
            "9\n"
          ]
        }
      ]
    },
    {
      "cell_type": "code",
      "source": [
        "#task-16\n",
        "def count11(s):\n",
        "  if len(s)==0:\n",
        "    return 0\n",
        "  if s[0]==\"1\" and s[1]==\"1\":\n",
        "    return 1+count11(s[2:])\n",
        "  return count11(s[1:])\n",
        "print(count11(\"abc11x11x11\"))"
      ],
      "metadata": {
        "colab": {
          "base_uri": "https://localhost:8080/"
        },
        "id": "xky_6r5pWbFt",
        "outputId": "9843d343-c2b4-4a36-e756-0ec4269e2337"
      },
      "execution_count": null,
      "outputs": [
        {
          "output_type": "stream",
          "name": "stdout",
          "text": [
            "3\n"
          ]
        }
      ]
    },
    {
      "cell_type": "code",
      "source": [
        "#task-17\n",
        "def parenBit(s):\n",
        "  if len(s)==0:\n",
        "    return \"\"\n",
        "  if s[0]==\"(\":\n",
        "    return s[0]\n",
        "print(parenBit(\"xyz(abc)123\"))"
      ],
      "metadata": {
        "id": "zNGeH9j_WfCE"
      },
      "execution_count": null,
      "outputs": []
    },
    {
      "cell_type": "code",
      "source": [
        "#task-18\n",
        "def strCopies(s1,s2,n):\n",
        "  if len(s1)==0:\n",
        "    return 0\n",
        "  l=len(s2)\n",
        "  if s1[:l]==s2:\n",
        "    return 1+strCopies(s1[l:],s2,n)\n",
        "  return strCopies(s1[1:],s2,n)\n",
        "  \n",
        "  \n",
        "strCopies(\"catcowcat\",\"cat\",2)"
      ],
      "metadata": {
        "colab": {
          "base_uri": "https://localhost:8080/"
        },
        "id": "qJiPJjg1Wflt",
        "outputId": "5079fbb5-9627-4f26-c1ab-c08925904232"
      },
      "execution_count": null,
      "outputs": [
        {
          "output_type": "execute_result",
          "data": {
            "text/plain": [
              "2"
            ]
          },
          "metadata": {},
          "execution_count": 15
        }
      ]
    },
    {
      "cell_type": "code",
      "source": [
        "#task-19\n",
        "def cngXY(s):\n",
        "  if len(s)==0:\n",
        "    return \"\"\n",
        "  if s[0]==\"x\":\n",
        "    return \"y\"+ cngXY(s[1:])\n",
        "  return s[0]+ cngXY(s[1:])\n",
        "print(cngXY(\"xxhixx\"))"
      ],
      "metadata": {
        "id": "mEj7ERbxWmGP",
        "colab": {
          "base_uri": "https://localhost:8080/"
        },
        "outputId": "87b639de-2833-4c0f-cd8f-252cb3ff5c7f"
      },
      "execution_count": null,
      "outputs": [
        {
          "output_type": "stream",
          "name": "stdout",
          "text": [
            "yyhiyy\n"
          ]
        }
      ]
    },
    {
      "cell_type": "code",
      "source": [
        "#task-20\n",
        "def arr6(a,i):\n",
        "  if len(a)==0:\n",
        "    return False\n",
        "  if i<=len(a)-1:\n",
        "    if a[i]==6:\n",
        "      return True \n",
        "    return arr6(a,i+1)\n",
        "  return False\n",
        "print(arr6([1,2,6], 0))"
      ],
      "metadata": {
        "colab": {
          "base_uri": "https://localhost:8080/"
        },
        "id": "QGTnNWpYWrQ7",
        "outputId": "972c8af9-04db-4b62-d704-aee04249ab17"
      },
      "execution_count": null,
      "outputs": [
        {
          "output_type": "stream",
          "name": "stdout",
          "text": [
            "True\n"
          ]
        }
      ]
    },
    {
      "cell_type": "code",
      "source": [
        "#task-21\n",
        "def allstar(s):\n",
        "  if len(s)==0:\n",
        "    return \"\"\n",
        "  return s[0]+\"*\"+allstar(s[1:])\n",
        "print(allstar(\"hello\"))"
      ],
      "metadata": {
        "colab": {
          "base_uri": "https://localhost:8080/"
        },
        "id": "nhYjxe0Vh436",
        "outputId": "ed6fef72-0dbf-490c-f2de-7e888589237e"
      },
      "execution_count": null,
      "outputs": [
        {
          "output_type": "stream",
          "name": "stdout",
          "text": [
            "h*e*l*l*o*\n"
          ]
        }
      ]
    },
    {
      "cell_type": "code",
      "source": [
        "#task-22\n",
        "def countpairs(s):\n",
        "  if len(s)==2:\n",
        "    return 0\n",
        "  if len(s)>=3:\n",
        "    if s[0]==s[2]:\n",
        "      return 1+ countpairs(s[1:])\n",
        "    return countpairs(s[1:])\n",
        "print(countpairs(\"axax\"))"
      ],
      "metadata": {
        "colab": {
          "base_uri": "https://localhost:8080/"
        },
        "id": "NXsXILPkip_s",
        "outputId": "cc5c40af-fc81-4ca0-c966-24edfac47cd9"
      },
      "execution_count": null,
      "outputs": [
        {
          "output_type": "stream",
          "name": "stdout",
          "text": [
            "2\n"
          ]
        }
      ]
    },
    {
      "cell_type": "code",
      "source": [
        "#task-23\n",
        "def stringClean(s):\n",
        "  if len(s)==0:\n",
        "    return \"\"\n",
        "  if s[0] not in s[1:]:\n",
        "    return s[0]+stringClean(s[1:])\n",
        "  return stringClean(s[1:])\n",
        "  \n",
        "print(stringClean(\"yyzzza\"))"
      ],
      "metadata": {
        "colab": {
          "base_uri": "https://localhost:8080/"
        },
        "id": "yT63-a8DkQpx",
        "outputId": "e9cda1d7-ad4b-4a14-a752-d8a38e976b5f"
      },
      "execution_count": null,
      "outputs": [
        {
          "output_type": "stream",
          "name": "stdout",
          "text": [
            "yza\n"
          ]
        }
      ]
    },
    {
      "cell_type": "code",
      "source": [
        "#task-24\n",
        "def  nestParen(s):\n",
        "  if len(s)==0:\n",
        "    return \"\"\n",
        "  if s[0]!=\"(\" or s[0]!=\")\":\n",
        "    return False\n",
        "  return nestParen(s[1:])\n",
        "  return True\n",
        "print( nestParen(\"(())\"))"
      ],
      "metadata": {
        "colab": {
          "base_uri": "https://localhost:8080/"
        },
        "id": "c9lFoe_9qHXx",
        "outputId": "0d3110b3-b120-4d6a-e819-3da3f9d8ad4a"
      },
      "execution_count": null,
      "outputs": [
        {
          "output_type": "stream",
          "name": "stdout",
          "text": [
            "False\n"
          ]
        }
      ]
    },
    {
      "cell_type": "code",
      "source": [
        "#task-25\n",
        "def  strDist(s1,s2):\n",
        "  if len(s1)==0:\n",
        "    return 0\n",
        "  l1=len(s1)\n",
        "  l2=len(s2)\n",
        "  if s1[:3]==s2 and s1[l1-l2:]==s2:\n",
        "    return l1+strDist(s1[3:l1-l2],s2)\n",
        "  return strDist(s1[1:l1-1],s2)\n",
        "  \n",
        "print( strDist(\"catcowcat\", \"cat\"))"
      ],
      "metadata": {
        "colab": {
          "base_uri": "https://localhost:8080/"
        },
        "id": "p-6hH7BbtMfX",
        "outputId": "422224b5-00b4-4e2c-e581-ac5d3a11641b"
      },
      "execution_count": null,
      "outputs": [
        {
          "output_type": "stream",
          "name": "stdout",
          "text": [
            "0\n"
          ]
        }
      ]
    },
    {
      "cell_type": "code",
      "source": [
        "#max/min\n",
        "def max_min(a,l,m):\n",
        "  if l==0:\n",
        "    return m\n",
        "  if int(a[l])>int(m):\n",
        "    m=a[l]\n",
        "  return max_min(a,l-1,m)\n",
        "\n",
        "a=[\"1\",\"5\",10,13,\"15\",-5]\n",
        "l=len(a)-1\n",
        "m=int(a[0])\n",
        "print(max_min(a,l,m))"
      ],
      "metadata": {
        "colab": {
          "base_uri": "https://localhost:8080/"
        },
        "id": "JnmlPVbdtQwZ",
        "outputId": "3047ef7d-74b5-4196-d914-3cce1111e4e1"
      },
      "execution_count": null,
      "outputs": [
        {
          "output_type": "stream",
          "name": "stdout",
          "text": [
            "15\n"
          ]
        }
      ]
    },
    {
      "cell_type": "code",
      "source": [
        "#max/min\n",
        "def max_min(a,l,m):\n",
        "  if l==0:\n",
        "    return m\n",
        "  \n",
        "  if ord(a[l])<ord(m):\n",
        "    m=a[l]\n",
        "  return max_min(a,l-1,m)\n",
        "\n",
        "a=[\"a\",\"b\",\"q\",\"z\",\"s\"]\n",
        "l=len(a)-1\n",
        "m=a[0]\n",
        "print(max_min(a,l,m))"
      ],
      "metadata": {
        "colab": {
          "base_uri": "https://localhost:8080/"
        },
        "id": "dLY40Moh-QgL",
        "outputId": "d609938a-7fc1-49eb-9127-b87c418c9f84"
      },
      "execution_count": null,
      "outputs": [
        {
          "output_type": "stream",
          "name": "stdout",
          "text": [
            "a\n"
          ]
        }
      ]
    },
    {
      "cell_type": "code",
      "source": [],
      "metadata": {
        "colab": {
          "base_uri": "https://localhost:8080/"
        },
        "id": "eQ4vHNsPtgxR",
        "outputId": "4634da6f-6b73-41ec-f99a-4def2df88a27"
      },
      "execution_count": null,
      "outputs": [
        {
          "output_type": "stream",
          "name": "stdout",
          "text": [
            "9\n"
          ]
        }
      ]
    },
    {
      "cell_type": "code",
      "source": [
        "#finding anagram\n",
        "def anagram(s):\n",
        "\n",
        "print()"
      ],
      "metadata": {
        "id": "K8jQUD5FCsDR"
      },
      "execution_count": null,
      "outputs": []
    },
    {
      "cell_type": "code",
      "source": [
        "def sum(n):\n",
        "  if n==1:\n",
        "    return 1\n",
        "  return n+sum(n-1)\n",
        "print(sum(10))"
      ],
      "metadata": {
        "colab": {
          "base_uri": "https://localhost:8080/"
        },
        "id": "cgqTOL8ZCjTm",
        "outputId": "3d6a33a9-39d6-443e-ef4c-9950511874d0"
      },
      "execution_count": null,
      "outputs": [
        {
          "output_type": "stream",
          "name": "stdout",
          "text": [
            "55\n"
          ]
        }
      ]
    },
    {
      "cell_type": "code",
      "source": [
        "def sum1(n,m):\n",
        "  if n==1:\n",
        "    return 1\n",
        "  return n**m+sum1(n-1,m)\n",
        "print(sum1(3,2))"
      ],
      "metadata": {
        "colab": {
          "base_uri": "https://localhost:8080/"
        },
        "id": "kLW9v9X-EFng",
        "outputId": "7ae10ee5-4f0d-4b3f-f7d2-8bdf886a0fc1"
      },
      "execution_count": null,
      "outputs": [
        {
          "output_type": "stream",
          "name": "stdout",
          "text": [
            "14\n"
          ]
        }
      ]
    }
  ]
}