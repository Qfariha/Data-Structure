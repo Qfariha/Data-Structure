{
  "nbformat": 4,
  "nbformat_minor": 0,
  "metadata": {
    "colab": {
      "provenance": []
    },
    "kernelspec": {
      "name": "python3",
      "display_name": "Python 3"
    },
    "language_info": {
      "name": "python"
    }
  },
  "cells": [
    {
      "cell_type": "code",
      "execution_count": null,
      "metadata": {
        "colab": {
          "base_uri": "https://localhost:8080/"
        },
        "id": "XGDcZxNm5y2U",
        "outputId": "cacb170d-619d-404e-b904-e280455e784a"
      },
      "outputs": [
        {
          "output_type": "stream",
          "name": "stdout",
          "text": [
            "[0, 2, 0, 1, 0, 0, 0, 0, 0, 0, 0, 1, 0, 1, 1, 1, 0, 0, 0, 0, 1]\n",
            "True\n",
            "[-9, -9, -7, 1, 3, 4, 5, 10]\n"
          ]
        }
      ],
      "source": [
        "class keyIndex:\n",
        "  def __init__(self,a):\n",
        "    self.arr=a\n",
        "    self.max1=abs(a[0])\n",
        "    for i in range(len(a)):\n",
        "      if abs(a[i])>self.max1:\n",
        "        self.max1=a[i]\n",
        "    self.k=[0]*((self.max1*2)+1) # -10->10\n",
        "    \n",
        "    for j in range(len(a)):\n",
        "      key=a[j]\n",
        "      self.k[self.max1+key]+=1\n",
        "    print(self.k)\n",
        "\n",
        "    \n",
        "  def sort(self):\n",
        "    n_arr=[0]*len(self.arr)\n",
        "    l=0\n",
        "    for i in range(len(self.k)):\n",
        "      \n",
        "      if self.k[i]!=0:\n",
        "        \n",
        "        for j in range(self.k[i]):\n",
        "          n_arr[l]=i-self.max1\n",
        "          l+=1\n",
        "        \n",
        "          \n",
        "    print(n_arr)\n",
        "\n",
        "  def search(self,val):\n",
        "    if self.k[self.max1+val]>0:\n",
        "      return True\n",
        "    else:\n",
        "      return False\n",
        "  \n",
        "\n",
        "arr=[-9,-9,-7,5,1,3,4,10]\n",
        "h=keyIndex(arr)\n",
        "print(h.search(-9))\n",
        "h.sort()\n",
        "\n",
        "\n",
        "\n",
        "      "
      ]
    },
    {
      "cell_type": "code",
      "source": [
        "l=list()\n",
        "s=set()\n",
        "s1=set([1,2,3])\n",
        "s2=set([1,2,3,3])\n",
        "print(s1)\n",
        "print(s2)"
      ],
      "metadata": {
        "colab": {
          "base_uri": "https://localhost:8080/"
        },
        "id": "KavSSTbFSVLM",
        "outputId": "b7273abc-a84f-40d8-a98c-dbac3e20c0e2"
      },
      "execution_count": null,
      "outputs": [
        {
          "output_type": "stream",
          "name": "stdout",
          "text": [
            "{1, 2, 3}\n",
            "{1, 2, 3}\n"
          ]
        }
      ]
    },
    {
      "cell_type": "code",
      "source": [
        "def hashtable(array):\n",
        "  table = [None]*9\n",
        "  \n",
        "  for i in range(len(array)):\n",
        "    cons = 0\n",
        "    sum = 0\n",
        "    for j in range(len(array[i])):\n",
        "      if array[i][j] in '0123456789':\n",
        "        sum+=int(array[i][j])\n",
        "      else:\n",
        "        if array[i][j] == 'A' or array[i][j] == 'E' or array[i][j] == 'I' or array[i][j] == 'O' or array[i][j] == 'U':\n",
        "          pass\n",
        "        else:\n",
        "          cons+=1\n",
        "    # print(cons)\n",
        "    # print(sum)\n",
        "    hf = (cons*24+sum)%9\n",
        "    # print(hf)\n",
        "    if table[hf]==None:\n",
        "      table[hf] = array[i]\n",
        "    else:\n",
        "      hf = (hf+1)%9\n",
        "      while table[hf]!=None:\n",
        "        hf = (hf+1)%9\n",
        "      table[hf] = array[i]\n",
        "  return table\n",
        "\n",
        "h1 = hashtable(['ST1E89B8A32','ST1E89B8A32','AMA2AMAG3', 'AMA2AMAG3', 'UMA45THERMAN9'])\n",
        "print(h1)\n",
        "h2 = hashtable(['WISE34BEE876', 'ABC', '1234', 'SI2987BLU22', 'WISE34BEE876', 'SI2987BLU22','SI2987BLU22'])\n",
        "print(h2)\n"
      ],
      "metadata": {
        "colab": {
          "base_uri": "https://localhost:8080/"
        },
        "id": "f_0iP57zzmPv",
        "outputId": "3528be79-63b2-4559-da47-6a13931cbfa9"
      },
      "execution_count": null,
      "outputs": [
        {
          "output_type": "stream",
          "name": "stdout",
          "text": [
            "['UMA45THERMAN9', None, None, None, 'ST1E89B8A32', 'ST1E89B8A32', 'AMA2AMAG3', 'AMA2AMAG3', None]\n",
            "[None, 'WISE34BEE876', '1234', 'ABC', 'SI2987BLU22', 'WISE34BEE876', 'SI2987BLU22', 'SI2987BLU22', None]\n"
          ]
        }
      ]
    },
    {
      "cell_type": "code",
      "source": [
        "def hashtable(arr):\n",
        "  htable=[None]*9\n",
        "  for i in range(len(arr)):\n",
        "    con=0\n",
        "    digsum=0\n",
        "    for j in range(len(arr[i])):\n",
        "      if arr[i][j] in \"0123456789\":\n",
        "        digsum+=int(arr[i][j])\n",
        "      else:\n",
        "        if arr[i][j] in \"AEIOU\":\n",
        "          pass\n",
        "        else:\n",
        "          con+=1\n",
        "    # print(con,\"con\")\n",
        "    # print(digsum,\"digsum\")\n",
        "    index= (con*24+digsum)%9\n",
        "    if htable[index]==None:\n",
        "      htable[index]=arr[i]\n",
        "    else:\n",
        "      index=(index+1)%9\n",
        "      while htable[index]!=None:\n",
        "        index=(index+1)%9\n",
        "      htable[index]=arr[i]\n",
        "  return htable\n",
        "\n",
        "h1 = hashtable(['ST1E89B8A32','ST1E89B8A32','AMA2AMAG3', 'AMA2AMAG3', 'UMA45THERMAN9'])\n",
        "print(h1)\n",
        "h2 = hashtable(['WISE34BEE876', 'ABC', '1234', 'SI2987BLU22', 'WISE34BEE876', 'SI2987BLU22','SI2987BLU22'])\n",
        "print(h2)\n"
      ],
      "metadata": {
        "colab": {
          "base_uri": "https://localhost:8080/"
        },
        "id": "9K7CJO_-op-i",
        "outputId": "26556c68-17ff-4e13-aee7-8f5db4447fde"
      },
      "execution_count": null,
      "outputs": [
        {
          "output_type": "stream",
          "name": "stdout",
          "text": [
            "['UMA45THERMAN9', None, None, None, 'ST1E89B8A32', 'ST1E89B8A32', 'AMA2AMAG3', 'AMA2AMAG3', None]\n",
            "[None, 'WISE34BEE876', '1234', 'ABC', 'SI2987BLU22', 'WISE34BEE876', 'SI2987BLU22', 'SI2987BLU22', None]\n"
          ]
        }
      ]
    },
    {
      "cell_type": "code",
      "source": [
        "def hashtable(n):\n",
        "  htable=[None]*2999\n",
        "  num=str(n)\n",
        "  sum=0\n",
        "  for dig in num:\n",
        "    sum+=int(dig)\n",
        "  index=sum%2999\n",
        "  if htable[index]==None:\n",
        "      htable[index]=num\n",
        "  else:\n",
        "    index=(index+1)%2999\n",
        "    while htable[index]!=None:\n",
        "      index=(index+1)%2999\n",
        "    htable[index]=num\n",
        "  return index\n",
        "print(hashtable(20125105))"
      ],
      "metadata": {
        "colab": {
          "base_uri": "https://localhost:8080/"
        },
        "id": "kWhU2ywMO7yt",
        "outputId": "a37643ac-6c92-43ff-ee6c-f65a54cbb841"
      },
      "execution_count": null,
      "outputs": [
        {
          "output_type": "stream",
          "name": "stdout",
          "text": [
            "16\n"
          ]
        }
      ]
    },
    {
      "cell_type": "code",
      "source": [
        "a=[\"abcd\",\"efgr\"]\n",
        "for i in range(len(a)):\n",
        "  for j in range(len(a[i])):\n",
        "    print(a[i][j],end=\",\")\n",
        "  print(\"#########\")"
      ],
      "metadata": {
        "colab": {
          "base_uri": "https://localhost:8080/"
        },
        "id": "Sf0coPuFpSp3",
        "outputId": "dcb52bab-1640-4c5c-f0b2-3fef7e884318"
      },
      "execution_count": null,
      "outputs": [
        {
          "output_type": "stream",
          "name": "stdout",
          "text": [
            "a,b,c,d,#########\n",
            "e,f,g,r,#########\n"
          ]
        }
      ]
    }
  ]
}