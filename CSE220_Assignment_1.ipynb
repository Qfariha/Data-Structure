{
  "nbformat": 4,
  "nbformat_minor": 0,
  "metadata": {
    "colab": {
      "provenance": []
    },
    "kernelspec": {
      "name": "python3",
      "display_name": "Python 3"
    },
    "language_info": {
      "name": "python"
    }
  },
  "cells": [
    {
      "cell_type": "code",
      "execution_count": null,
      "metadata": {
        "colab": {
          "base_uri": "https://localhost:8080/"
        },
        "id": "C2VxXQRRc2TD",
        "outputId": "79c6dfc2-5853-4b8e-f57f-3ce2d1e1027c"
      },
      "outputs": [
        {
          "output_type": "stream",
          "name": "stdout",
          "text": [
            "3\n",
            "[40, 50, 60, 0, 0, 0]\n"
          ]
        }
      ],
      "source": [
        "#task-1\n",
        "source=[10,20,30,40,50,60]\n",
        "k=int(input())\n",
        "def shiftLeft(source,k):\n",
        "  for index1 in range(0,k):\n",
        "    for index2 in range(0,len(source)-1):\n",
        "      source[index2]=source[index2+1]\n",
        "    source[len(source)-1]=0  #last index=0\n",
        "  return source\n",
        "print(shiftLeft(source,k))"
      ]
    },
    {
      "cell_type": "code",
      "source": [
        "#task-2\n",
        "source=[10,20,30,40,50,60]\n",
        "k=int(input())\n",
        "def rotateLeft(source,k):\n",
        "  for index1 in range(0,k):\n",
        "    temp=source[0]\n",
        "    for index2 in range(0,len(source)-1):\n",
        "      source[index2]=source[index2+1]\n",
        "    source[len(source)-1]=temp #first for loop er proti bar a first index er value temp a store chilo\n",
        "  return source\n",
        "print(rotateLeft(source,k))"
      ],
      "metadata": {
        "colab": {
          "base_uri": "https://localhost:8080/"
        },
        "id": "mqnMASHxgEX2",
        "outputId": "668b01e9-a324-4a38-b30c-a0825047a02a"
      },
      "execution_count": null,
      "outputs": [
        {
          "output_type": "stream",
          "name": "stdout",
          "text": [
            "3\n",
            "[40, 50, 60, 10, 20, 30]\n"
          ]
        }
      ]
    },
    {
      "cell_type": "code",
      "source": [
        "#task-3\n",
        "source=[10,20,30,40,50,60]\n",
        "k=3\n",
        "def shiftRight(source,k):\n",
        "  for index1 in range(0,k):\n",
        "    for index2 in range(len(source)-1,-1,-1):  # end value 0 dileo output same ashe karon 0 index a 0 rekhechi\n",
        "      source[index2]=source[index2-1]\n",
        "    source[0]=0\n",
        "  return source\n",
        "print(shiftRight(source,k))"
      ],
      "metadata": {
        "colab": {
          "base_uri": "https://localhost:8080/"
        },
        "id": "6Tn8bRWmh512",
        "outputId": "680da813-2fd0-46b4-bee7-5233a5fd3319"
      },
      "execution_count": null,
      "outputs": [
        {
          "output_type": "stream",
          "name": "stdout",
          "text": [
            "[0, 0, 0, 10, 20, 30]\n"
          ]
        }
      ]
    },
    {
      "cell_type": "code",
      "source": [
        "#task-4\n",
        "source=[10,20,30,40,50,60]\n",
        "k=3\n",
        "def rotateRight(source,k):\n",
        "  for index1 in range(0,k):\n",
        "    temp=source[len(source)-1]\n",
        "    for index2 in range(len(source)-1,-1,-1):\n",
        "      source[index2]=source[index2-1]\n",
        "    source[0]=temp\n",
        "  return source\n",
        "print(rotateRight(source,k))"
      ],
      "metadata": {
        "colab": {
          "base_uri": "https://localhost:8080/"
        },
        "id": "kYo_5Z3Orne-",
        "outputId": "8fec4880-a4cf-4f36-a771-907b69279d0a"
      },
      "execution_count": null,
      "outputs": [
        {
          "output_type": "stream",
          "name": "stdout",
          "text": [
            "[40, 50, 60, 10, 20, 30]\n"
          ]
        }
      ]
    },
    {
      "cell_type": "code",
      "source": [
        "#task-5\n",
        "source=[10,20,30,40,50,0,0]\n",
        "s=5\n",
        "k=2\n",
        "def remove(source,s,k):\n",
        "  for index2 in range(k,len(source)-1):\n",
        "      source[index2]=source[index2+1]\n",
        "  source[len(source)-1]=0 #source[s-1]=0  same\n",
        "  return source\n",
        "print(remove(source,s,k))"
      ],
      "metadata": {
        "colab": {
          "base_uri": "https://localhost:8080/"
        },
        "id": "Zr3Q40pvtbGP",
        "outputId": "978481f7-4be5-4a5c-958c-53cbacf0497a"
      },
      "execution_count": null,
      "outputs": [
        {
          "output_type": "stream",
          "name": "stdout",
          "text": [
            "[10, 20, 40, 50, 0, 0, 0]\n"
          ]
        }
      ]
    },
    {
      "cell_type": "code",
      "source": [
        "#task-6\n",
        "source=[10,2,30,2,50,2,2,0,0]\n",
        "s=7\n",
        "elem=2\n",
        "def removeAll(source,s,elem):\n",
        "    for i in range(s-1,-1,-1):\n",
        "        if source[i]==elem and source[i]==source[s-1]: #index-6==elem hole\n",
        "            source[i]=0\n",
        "        if source[i] == elem:\n",
        "            for j in range(i,s-1):\n",
        "                source[j]=source[j+1] #left shift\n",
        "\n",
        "        \n",
        "    return source\n",
        "print(removeAll(source,s,elem))"
      ],
      "metadata": {
        "colab": {
          "base_uri": "https://localhost:8080/"
        },
        "id": "hTszcAcgvhb-",
        "outputId": "01158efb-e358-499a-cc46-0d9a7b892136"
      },
      "execution_count": null,
      "outputs": [
        {
          "output_type": "stream",
          "name": "stdout",
          "text": [
            "[10, 30, 50, 0, 0, 0, 0, 0, 0]\n"
          ]
        }
      ]
    },
    {
      "cell_type": "code",
      "source": [
        "#task-7\n",
        "def split(array):\n",
        "  a1 = [0]*len(array)\n",
        "  a1[0] = array[0]\n",
        "\n",
        "  for i in range(1,len(array)): #i=1,2\n",
        "    a1[i]=a1[i-1]+array[i]  #1,(1+1),(2+1)..\n",
        "  #print(a2)\n",
        "  sum = a1[len(a1)-1]\n",
        "  if sum%2!=0:\n",
        "    return 'false'\n",
        "  else:\n",
        "    if sum/2 in a1:  #cumulative array te thakle \n",
        "      return 'true'\n",
        "    else:\n",
        "      return 'false'\n",
        "print(split([1, 1, 1, 2, 1]))"
      ],
      "metadata": {
        "id": "tqt_XQExLC8U",
        "colab": {
          "base_uri": "https://localhost:8080/"
        },
        "outputId": "4310e205-9dbc-4df9-9b5f-a0d8d7a1d5ec"
      },
      "execution_count": null,
      "outputs": [
        {
          "output_type": "stream",
          "name": "stdout",
          "text": [
            "true\n"
          ]
        }
      ]
    },
    {
      "cell_type": "code",
      "source": [
        "#task-8\n",
        "def pattern(n):\n",
        "  a1=[0]*n*n\n",
        "  k=0\n",
        "  for row in range(1,n+1):\n",
        "    for i in range(1,(n-row)+1):\n",
        "      #print(0,end='')\n",
        "      a1[k]=0\n",
        "    \n",
        "    for j in range(row,0,-1):\n",
        "      #print(j,end=\"\")\n",
        "      a1[k]=j\n",
        "    #print()\n",
        "    k+=1\n",
        "  print(a1)\n",
        "  \n",
        "pattern(4)"
      ],
      "metadata": {
        "colab": {
          "base_uri": "https://localhost:8080/",
          "height": 321
        },
        "id": "2IpaZsUk6iDZ",
        "outputId": "d4eeecca-5442-426d-f068-04b652c28d04"
      },
      "execution_count": null,
      "outputs": [
        {
          "output_type": "error",
          "ename": "IndexError",
          "evalue": "ignored",
          "traceback": [
            "\u001b[0;31m---------------------------------------------------------------------------\u001b[0m",
            "\u001b[0;31mIndexError\u001b[0m                                Traceback (most recent call last)",
            "\u001b[0;32m<ipython-input-18-c148bdc56c4f>\u001b[0m in \u001b[0;36m<module>\u001b[0;34m\u001b[0m\n\u001b[1;32m     15\u001b[0m   \u001b[0mprint\u001b[0m\u001b[0;34m(\u001b[0m\u001b[0ma1\u001b[0m\u001b[0;34m)\u001b[0m\u001b[0;34m\u001b[0m\u001b[0;34m\u001b[0m\u001b[0m\n\u001b[1;32m     16\u001b[0m \u001b[0;34m\u001b[0m\u001b[0m\n\u001b[0;32m---> 17\u001b[0;31m \u001b[0mpattern\u001b[0m\u001b[0;34m(\u001b[0m\u001b[0;36m4\u001b[0m\u001b[0;34m)\u001b[0m\u001b[0;34m\u001b[0m\u001b[0;34m\u001b[0m\u001b[0m\n\u001b[0m",
            "\u001b[0;32m<ipython-input-18-c148bdc56c4f>\u001b[0m in \u001b[0;36mpattern\u001b[0;34m(n)\u001b[0m\n\u001b[1;32m      6\u001b[0m     \u001b[0;32mfor\u001b[0m \u001b[0mi\u001b[0m \u001b[0;32min\u001b[0m \u001b[0mrange\u001b[0m\u001b[0;34m(\u001b[0m\u001b[0;36m1\u001b[0m\u001b[0;34m,\u001b[0m\u001b[0;34m(\u001b[0m\u001b[0mn\u001b[0m\u001b[0;34m-\u001b[0m\u001b[0mrow\u001b[0m\u001b[0;34m)\u001b[0m\u001b[0;34m+\u001b[0m\u001b[0;36m1\u001b[0m\u001b[0;34m)\u001b[0m\u001b[0;34m:\u001b[0m\u001b[0;34m\u001b[0m\u001b[0;34m\u001b[0m\u001b[0m\n\u001b[1;32m      7\u001b[0m       \u001b[0;31m#print(0,end='')\u001b[0m\u001b[0;34m\u001b[0m\u001b[0;34m\u001b[0m\u001b[0;34m\u001b[0m\u001b[0m\n\u001b[0;32m----> 8\u001b[0;31m       \u001b[0ma1\u001b[0m\u001b[0;34m[\u001b[0m\u001b[0mk\u001b[0m\u001b[0;34m]\u001b[0m\u001b[0;34m=\u001b[0m\u001b[0;36m0\u001b[0m\u001b[0;34m\u001b[0m\u001b[0;34m\u001b[0m\u001b[0m\n\u001b[0m\u001b[1;32m      9\u001b[0m \u001b[0;34m\u001b[0m\u001b[0m\n\u001b[1;32m     10\u001b[0m     \u001b[0;32mfor\u001b[0m \u001b[0mj\u001b[0m \u001b[0;32min\u001b[0m \u001b[0mrange\u001b[0m\u001b[0;34m(\u001b[0m\u001b[0mrow\u001b[0m\u001b[0;34m,\u001b[0m\u001b[0;36m0\u001b[0m\u001b[0;34m,\u001b[0m\u001b[0;34m-\u001b[0m\u001b[0;36m1\u001b[0m\u001b[0;34m)\u001b[0m\u001b[0;34m:\u001b[0m\u001b[0;34m\u001b[0m\u001b[0;34m\u001b[0m\u001b[0m\n",
            "\u001b[0;31mIndexError\u001b[0m: list assignment index out of range"
          ]
        }
      ]
    },
    {
      "cell_type": "code",
      "source": [
        "##Task 9\n",
        "def maxCount(array):\n",
        "  a1 = [0]*len(array)\n",
        "  s1 = 1 #number of consecutive terms\n",
        "  for i in range(1,len(array)):\n",
        "    if array[i]!=array[i-1]:\n",
        "      a1[i] = s1\n",
        "      s1 = 1\n",
        "    else:\n",
        "      s1+=1\n",
        "  a1[len(a1)-1] = s1\n",
        "  max = a1[0]\n",
        "  for i in range(len(a1)):\n",
        "    if a1[i]>max:\n",
        "      max = a1[i]\n",
        "    else: \n",
        "      pass\n",
        "  return max\n",
        "print(maxCount([1,1,2, 2, 1, 1,1,1]))"
      ],
      "metadata": {
        "colab": {
          "base_uri": "https://localhost:8080/"
        },
        "id": "oISfu52wkfeZ",
        "outputId": "14ee988b-b4cf-40ff-ed28-05b947067dc9"
      },
      "execution_count": null,
      "outputs": [
        {
          "output_type": "stream",
          "name": "stdout",
          "text": [
            "3\n"
          ]
        }
      ]
    },
    {
      "cell_type": "code",
      "source": [
        "#task-10\n",
        "def repeats(array):\n",
        "  a1 = [0]*len(array)\n",
        "  elements = [0]*len(array)\n",
        "  rep = 0\n",
        "  for i in range(len(array)):\n",
        "    if array[i] not in elements:\n",
        "      for j in range(len(array)):\n",
        "        if array[j] == array[i]:\n",
        "          rep+=1\n",
        "          elements[i] = array[i]    \n",
        "    a1[i] = rep\n",
        "    rep = 0\n",
        "  same = 0\n",
        "  #print(a1)\n",
        "  for i in range(len(a1)):\n",
        "    if a1[i]>1:\n",
        "      for j in range(len(a1)):\n",
        "        if a1[j] == a1[i]:\n",
        "          same+=1\n",
        "      if same>=2:\n",
        "        return True\n",
        "      else:\n",
        "        same = 0\n",
        "  return False\n",
        "print(repeats([4,5,6,6,4,3,6,4]))"
      ],
      "metadata": {
        "colab": {
          "base_uri": "https://localhost:8080/"
        },
        "id": "etyONVSnitpz",
        "outputId": "b4268f71-b907-4921-b2c3-eedcb83868e6"
      },
      "execution_count": null,
      "outputs": [
        {
          "output_type": "stream",
          "name": "stdout",
          "text": [
            "[4, 5, 6, 6, 4, 3, 6, 4] a1\n",
            "[4, 5, 6, 3] a2\n",
            "[3] fcount\n",
            "[3, 1] fcount\n",
            "[3, 1, 3] fcount\n",
            "[3, 1, 3, 1] fcount\n",
            "True\n"
          ]
        }
      ]
    },
    {
      "cell_type": "code",
      "source": [
        "\n",
        "a=[1,4,5,8,None,None,None]\n",
        "b=[7,4,8,9,5,None,None]\n",
        "n=[None]*len(a)\n",
        "for i in range(len(a)):\n",
        "  for j in range(len(b)-1,-1,-1):\n",
        "    if a[i]==None or b[j]==None:\n",
        "        a[i],b[j]=0,0 \n",
        "for k in range(len(n)):\n",
        "  n[k]=a[i]+b[j]\n",
        "  print(n,\"n\")\n",
        "\n"
      ],
      "metadata": {
        "colab": {
          "base_uri": "https://localhost:8080/"
        },
        "id": "F_al81BYnx9A",
        "outputId": "990fd066-ee94-439e-e66f-49553944ca09"
      },
      "execution_count": null,
      "outputs": [
        {
          "output_type": "stream",
          "name": "stdout",
          "text": [
            "[7, None, None, None, None, None, None] n\n",
            "[7, 7, None, None, None, None, None] n\n",
            "[7, 7, 7, None, None, None, None] n\n",
            "[7, 7, 7, 7, None, None, None] n\n",
            "[7, 7, 7, 7, 7, None, None] n\n",
            "[7, 7, 7, 7, 7, 7, None] n\n",
            "[7, 7, 7, 7, 7, 7, 7] n\n"
          ]
        }
      ]
    }
  ]
}